{
 "cells": [
  {
   "cell_type": "markdown",
   "metadata": {
    "application/vnd.databricks.v1+cell": {
     "cellMetadata": {},
     "inputWidgets": {},
     "nuid": "34d54d91-e520-4b0b-9cfa-50c329439986",
     "showTitle": false,
     "tableResultSettingsMap": {},
     "title": ""
    }
   },
   "source": [
    "### Gold Notebook\n",
    "This notebook reads silver tables, combines them into one and stores them in gold table."
   ]
  },
  {
   "cell_type": "code",
   "execution_count": 0,
   "metadata": {
    "application/vnd.databricks.v1+cell": {
     "cellMetadata": {
      "byteLimit": 2048000,
      "rowLimit": 10000
     },
     "inputWidgets": {},
     "nuid": "ddb17909-a685-4ab7-8215-84c21d304bfa",
     "showTitle": false,
     "tableResultSettingsMap": {},
     "title": ""
    }
   },
   "outputs": [],
   "source": [
    "df_visits = spark.table(\"silver.avohilmo.visits_processed\")\n",
    "df_customers = spark.table(\"silver.avohilmo.customers_processed\")\n",
    "df_visits_customers = spark.table(\"silver.avohilmo.visits_customers_processed\")"
   ]
  },
  {
   "cell_type": "code",
   "execution_count": 0,
   "metadata": {
    "application/vnd.databricks.v1+cell": {
     "cellMetadata": {
      "byteLimit": 2048000,
      "rowLimit": 10000
     },
     "inputWidgets": {},
     "nuid": "13fea5d9-8db2-4cc8-baae-209e6b7e33bc",
     "showTitle": false,
     "tableResultSettingsMap": {},
     "title": ""
    }
   },
   "outputs": [],
   "source": [
    "from pyspark.sql.functions import coalesce\n",
    "from pyspark.sql.functions import col\n",
    "\n",
    "df_gold = (\n",
    "    df_visits.alias(\"v\")\n",
    "    .join(df_customers.alias(\"c\"),\n",
    "          [\"region_name\", \"profession_name\", \"service_type_name\", \"year\"],\n",
    "          \"outer\")\n",
    "    .join(df_visits_customers.alias(\"r\"),\n",
    "          [\"region_name\", \"profession_name\", \"service_type_name\", \"year\"],\n",
    "          \"outer\")\n",
    "    .select(\n",
    "        coalesce(df_visits.region_name, df_customers.region_name, df_visits_customers.region_name).alias(\"area\"),\n",
    "        coalesce(df_visits.profession_name, df_customers.profession_name, df_visits_customers.profession_name).alias(\"profession\"),\n",
    "        coalesce(df_visits.service_type_name, df_customers.service_type_name, df_visits_customers.service_type_name).alias(\"service_type\"),\n",
    "        coalesce(df_visits.year, df_customers.year, df_visits_customers.year).alias(\"year\"),\n",
    "        df_visits.value.alias(\"visits\"),\n",
    "        df_customers.value.alias(\"customers\"),\n",
    "        df_visits_customers.value.alias(\"visits_per_customer\")\n",
    "    )\n",
    ")\n"
   ]
  },
  {
   "cell_type": "code",
   "execution_count": 0,
   "metadata": {
    "application/vnd.databricks.v1+cell": {
     "cellMetadata": {
      "byteLimit": 2048000,
      "rowLimit": 10000
     },
     "inputWidgets": {},
     "nuid": "50e93430-fdb2-4146-b187-8412c2e2e916",
     "showTitle": false,
     "tableResultSettingsMap": {},
     "title": ""
    }
   },
   "outputs": [],
   "source": [
    "# Setting up the catalog and database\n",
    "spark.catalog.setCurrentCatalog(\"gold\")\n",
    "spark.catalog.setCurrentDatabase(\"avohilmo\")"
   ]
  },
  {
   "cell_type": "code",
   "execution_count": 0,
   "metadata": {
    "application/vnd.databricks.v1+cell": {
     "cellMetadata": {
      "byteLimit": 2048000,
      "implicitDf": true,
      "rowLimit": 10000
     },
     "inputWidgets": {},
     "nuid": "72bb6950-c9e1-4a91-bedc-0c49fd5a26f7",
     "showTitle": false,
     "tableResultSettingsMap": {},
     "title": ""
    }
   },
   "outputs": [],
   "source": [
    "%sql\n",
    "-- Create an empty table with data types\n",
    "CREATE TABLE IF NOT EXISTS aggregated_data (\n",
    "  area STRING,\n",
    "  profession STRING,\n",
    "  service_type STRING,\n",
    "  year INT,\n",
    "  visits INT,\n",
    "  customers INT,\n",
    "  visits_per_customer DOUBLE\n",
    ");"
   ]
  },
  {
   "cell_type": "code",
   "execution_count": 0,
   "metadata": {
    "application/vnd.databricks.v1+cell": {
     "cellMetadata": {
      "byteLimit": 2048000,
      "rowLimit": 10000
     },
     "inputWidgets": {},
     "nuid": "fa38c39a-50a6-42b1-b65b-799e02bc9a21",
     "showTitle": false,
     "tableResultSettingsMap": {},
     "title": ""
    }
   },
   "outputs": [],
   "source": [
    "df_gold.write.mode(\"overwrite\").saveAsTable(\"gold.avohilmo.aggregated_data\")"
   ]
  },
  {
   "cell_type": "markdown",
   "metadata": {},
   "source": [
    "### Querying the data to see if it exists"
   ]
  },
  {
   "cell_type": "code",
   "execution_count": 0,
   "metadata": {
    "application/vnd.databricks.v1+cell": {
     "cellMetadata": {
      "byteLimit": 2048000,
      "implicitDf": true,
      "rowLimit": 10000
     },
     "inputWidgets": {},
     "nuid": "26a514b2-d430-4ab3-9cf9-88c8d4a46bce",
     "showTitle": false,
     "tableResultSettingsMap": {},
     "title": ""
    }
   },
   "outputs": [],
   "source": [
    "%sql\n",
    "select * from gold.avohilmo.aggregated_data"
   ]
  },
  {
   "cell_type": "code",
   "execution_count": 0,
   "metadata": {
    "application/vnd.databricks.v1+cell": {
     "cellMetadata": {
      "byteLimit": 2048000,
      "implicitDf": true,
      "rowLimit": 10000
     },
     "inputWidgets": {},
     "nuid": "c5171a4c-7337-468d-8d03-af9a827b6f13",
     "showTitle": false,
     "tableResultSettingsMap": {
      "0": {
       "dataGridStateBlob": "{\"version\":1,\"tableState\":{\"columnPinning\":{\"left\":[\"#row_number#\"],\"right\":[]},\"columnSizing\":{},\"columnVisibility\":{}},\"settings\":{\"columns\":{}},\"syncTimestamp\":1757774639833}",
       "filterBlob": null,
       "queryPlanFiltersBlob": null,
       "tableResultIndex": 0
      }
     },
     "title": ""
    }
   },
   "outputs": [],
   "source": [
    "%sql\n",
    "select sum(visits)\n",
    "from gold.avohilmo.aggregated_data\n",
    "where year = 2015 and profession = 'Lääkärit' and area = 'Ulkomaat'"
   ]
  }
 ],
 "metadata": {
  "application/vnd.databricks.v1+notebook": {
   "computePreferences": null,
   "dashboards": [],
   "environmentMetadata": {
    "base_environment": "",
    "environment_version": "3"
   },
   "inputWidgetPreferences": null,
   "language": "python",
   "notebookMetadata": {
    "mostRecentlyExecutedCommandWithImplicitDF": {
     "commandId": 7224697395096304,
     "dataframes": [
      "_sqldf"
     ]
    },
    "pythonIndentUnit": 4
   },
   "notebookName": "gold-notebook",
   "widgets": {}
  },
  "language_info": {
   "name": "python"
  }
 },
 "nbformat": 4,
 "nbformat_minor": 0
}
